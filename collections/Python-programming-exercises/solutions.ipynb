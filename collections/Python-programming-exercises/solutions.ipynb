{
 "cells": [
  {
   "cell_type": "markdown",
   "id": "b15d029a-3159-4cf7-9bab-89264a83836e",
   "metadata": {
    "jp-MarkdownHeadingCollapsed": true
   },
   "source": [
    "### Question 1\n",
    "Level 1\n",
    "\n",
    "Question:\n",
    "Write a program which will find all such numbers which are divisible by 7 but are not a multiple of 5, between 2000 and 3200 (both included).\n",
    "The numbers obtained should be printed in a comma-separated sequence on a single line."
   ]
  },
  {
   "cell_type": "code",
   "execution_count": 1,
   "id": "8739936f-1e4e-48da-984b-87a2c1bc9b43",
   "metadata": {},
   "outputs": [
    {
     "data": {
      "text/plain": [
       "'2002,2009,2016,2023,2037,2044,2051,2058,2072,2079,2086,2093,2107,2114,2121,2128,2142,2149,2156,2163,2177,2184,2191,2198,2212,2219,2226,2233,2247,2254,2261,2268,2282,2289,2296,2303,2317,2324,2331,2338,2352,2359,2366,2373,2387,2394,2401,2408,2422,2429,2436,2443,2457,2464,2471,2478,2492,2499,2506,2513,2527,2534,2541,2548,2562,2569,2576,2583,2597,2604,2611,2618,2632,2639,2646,2653,2667,2674,2681,2688,2702,2709,2716,2723,2737,2744,2751,2758,2772,2779,2786,2793,2807,2814,2821,2828,2842,2849,2856,2863,2877,2884,2891,2898,2912,2919,2926,2933,2947,2954,2961,2968,2982,2989,2996,3003,3017,3024,3031,3038,3052,3059,3066,3073,3087,3094,3101,3108,3122,3129,3136,3143,3157,3164,3171,3178,3192,3199'"
      ]
     },
     "execution_count": 1,
     "metadata": {},
     "output_type": "execute_result"
    }
   ],
   "source": [
    "numbers = [str(number) for number in range(2000, 3201) if number % 7 == 0 and number % 5]\n",
    "','.join(numbers)"
   ]
  },
  {
   "cell_type": "markdown",
   "id": "779bc69a-82b4-423b-972a-0ff8c0d60e02",
   "metadata": {
    "jp-MarkdownHeadingCollapsed": true
   },
   "source": [
    "### Question 2\n",
    "Level 1\n",
    "\n",
    "Question:\n",
    "Write a program which can compute the factorial of a given numbers.\n",
    "The results should be printed in a comma-separated sequence on a single line.\n",
    "Suppose the following input is supplied to the program:\n",
    "8\n",
    "Then, the output should be:\n",
    "40320\n",
    "\n",
    "Hints:\n",
    "In case of input data being supplied to the question, it should be assumed to be a console input."
   ]
  },
  {
   "cell_type": "code",
   "execution_count": null,
   "id": "e078ed92-2045-43d2-9d0f-b0d2b84f592d",
   "metadata": {
    "is_executing": true,
    "scrolled": true
   },
   "outputs": [],
   "source": [
    "from functools import reduce\n",
    "\n",
    "number = int(input(''))\n",
    "factorial = lambda number: reduce(lambda x, y: x * y, range(1, number+1))\n",
    "print(factorial(number))"
   ]
  },
  {
   "cell_type": "markdown",
   "id": "c14b3d55-3cc6-4648-98ba-76bbdf43f9a6",
   "metadata": {
    "jp-MarkdownHeadingCollapsed": true
   },
   "source": [
    "### Question 3\n",
    "Level 1\n",
    "\n",
    "Question:\n",
    "With a given integral number n, write a program to generate a dictionary that contains (i, i*i) such that is an integral number between 1 and n (both included). and then the program should print the dictionary.\n",
    "Suppose the following input is supplied to the program:\n",
    "8\n",
    "Then, the output should be:\n",
    "{1: 1, 2: 4, 3: 9, 4: 16, 5: 25, 6: 36, 7: 49, 8: 64}\n",
    "\n",
    "Hints:\n",
    "In case of input data being supplied to the question, it should be assumed to be a console input.\n",
    "Consider use dict()"
   ]
  },
  {
   "cell_type": "code",
   "execution_count": null,
   "id": "aca19685-b81f-4392-8ecb-ccc63898ae3e",
   "metadata": {},
   "outputs": [],
   "source": [
    "number = int(input(''))\n",
    "generate_dict = lambda number: {i: i*i for i in range(1, number+1)}\n",
    "generate_dict(number)"
   ]
  },
  {
   "cell_type": "markdown",
   "id": "53fe0178-5dee-43f8-9206-3f1a316443a1",
   "metadata": {
    "jp-MarkdownHeadingCollapsed": true
   },
   "source": [
    "### Question 4\n",
    "Level 1\n",
    "\n",
    "Question:\n",
    "Write a program which accepts a sequence of comma-separated numbers from console and generate a list and a tuple which contains every number.\n",
    "Suppose the following input is supplied to the program:\n",
    "34,67,55,33,12,98\n",
    "Then, the output should be:\n",
    "['34', '67', '55', '33', '12', '98']\n",
    "('34', '67', '55', '33', '12', '98')\n",
    "\n",
    "Hints:\n",
    "In case of input data being supplied to the question, it should be assumed to be a console input.\n",
    "tuple() method can convert list to tuple"
   ]
  },
  {
   "cell_type": "code",
   "execution_count": null,
   "id": "95abb37f-36d3-4d54-987f-1f5e44e264de",
   "metadata": {},
   "outputs": [],
   "source": [
    "numbers = input('').split(',')\n",
    "print(numbers)\n",
    "print(tuple(numbers))"
   ]
  },
  {
   "cell_type": "markdown",
   "id": "cf2808b6-41f1-404b-95b3-f2e8e6fc6200",
   "metadata": {
    "jp-MarkdownHeadingCollapsed": true
   },
   "source": [
    "### Question 5\n",
    "Level 1\n",
    "\n",
    "Question:\n",
    "Define a class which has at least two methods:\n",
    "getString: to get a string from console input\n",
    "printString: to print the string in upper case.\n",
    "Also please include simple test function to test the class methods.\n",
    "\n",
    "Hints:\n",
    "Use __init__ method to construct some parameters"
   ]
  },
  {
   "cell_type": "code",
   "execution_count": null,
   "id": "921f5516-37b5-4a11-b534-c8a3f344231a",
   "metadata": {},
   "outputs": [],
   "source": [
    "class StringIO:\n",
    "    def __init__(self):\n",
    "        self.string = ''\n",
    "\n",
    "    def getString(self):\n",
    "        self.string = input()\n",
    "\n",
    "    def printString(self):\n",
    "        print(self.string.upper())\n",
    "\n",
    "string_io = StringIO()\n",
    "test_class = lambda: (string_io.getString(), string_io.printString())[0]\n",
    "test_class()"
   ]
  },
  {
   "cell_type": "markdown",
   "id": "4db303e9-cbd3-4eec-bc9b-82706bfe9378",
   "metadata": {
    "jp-MarkdownHeadingCollapsed": true
   },
   "source": [
    "### Question 6\n",
    "Level 2\n",
    "\n",
    "Question:\n",
    "Write a program that calculates and prints the value according to the given formula:\n",
    "Q = Square root of [(2 * C * D)/H]\n",
    "Following are the fixed values of C and H:\n",
    "C is 50. H is 30.\n",
    "D is the variable whose values should be input to your program in a comma-separated sequence.\n",
    "Example\n",
    "Let us assume the following comma separated input sequence is given to the program:\n",
    "100,150,180\n",
    "The output of the program should be:\n",
    "18,22,24\n",
    "\n",
    "Hints:\n",
    "If the output received is in decimal form, it should be rounded off to its nearest value (for example, if the output received is 26.0, it should be printed as 26)\n",
    "In case of input data being supplied to the question, it should be assumed to be a console input."
   ]
  },
  {
   "cell_type": "code",
   "execution_count": null,
   "id": "871d2790-424f-476b-bd8c-437e7d0a9c84",
   "metadata": {},
   "outputs": [],
   "source": [
    "c, h = 50, 30\n",
    "numbers = input().split(',')\n",
    "calculates = lambda numbers: [round(((2 * c * int(d)) / h) ** 0.5) for d in numbers]\n",
    "calculates(numbers)"
   ]
  },
  {
   "cell_type": "markdown",
   "id": "2d12f72b-df94-4d57-9bc8-5d0c90fb2e06",
   "metadata": {
    "jp-MarkdownHeadingCollapsed": true
   },
   "source": [
    "### Question 7\n",
    "Level 2\n",
    "\n",
    "Question:\n",
    "Write a program which takes 2 digits, X,Y as input and generates a 2-dimensional array. The element value in the i-th row and j-th column of the array should be i*j.\n",
    "Note: i=0,1.., X-1; j=0,1,¡­Y-1.\n",
    "Example\n",
    "Suppose the following inputs are given to the program:\n",
    "3,5\n",
    "Then, the output of the program should be:\n",
    "[[0, 0, 0, 0, 0], [0, 1, 2, 3, 4], [0, 2, 4, 6, 8]] \n",
    "\n",
    "Hints:\n",
    "Note: In case of input data being supplied to the question, it should be assumed to be a console input in a comma-separated form."
   ]
  },
  {
   "cell_type": "code",
   "execution_count": null,
   "id": "9133a6bf-08db-4e20-bffd-86f94ae7cd69",
   "metadata": {},
   "outputs": [],
   "source": [
    "x, y = input().split(',')\n",
    "gen_two_dimensional_array = lambda x, y: [[i * j for j in range(int(y))] for i in range(int(x))]\n",
    "gen_two_dimensional_array(x, y)"
   ]
  },
  {
   "cell_type": "markdown",
   "id": "38b59601-5910-4719-a7e9-39711320e1f2",
   "metadata": {
    "jp-MarkdownHeadingCollapsed": true
   },
   "source": [
    "### Question 8\n",
    "Level 2\n",
    "\n",
    "Question:\n",
    "Write a program that accepts a comma separated sequence of words as input and prints the words in a comma-separated sequence after sorting them alphabetically.\n",
    "Suppose the following input is supplied to the program:\n",
    "without,hello,bag,world\n",
    "Then, the output should be:\n",
    "bag,hello,without,world\n",
    "\n",
    "Hints:\n",
    "In case of input data being supplied to the question, it should be assumed to be a console input."
   ]
  },
  {
   "cell_type": "code",
   "execution_count": null,
   "id": "8a3a75eb-0a0b-49fa-a345-b47fc60f41a2",
   "metadata": {},
   "outputs": [],
   "source": [
    "words = input().split(',')\n",
    "','.join(sorted(words))"
   ]
  },
  {
   "cell_type": "markdown",
   "id": "21b41208-04b5-4dff-b247-08bceb004e5f",
   "metadata": {
    "jp-MarkdownHeadingCollapsed": true
   },
   "source": [
    "### Question 9\n",
    "Level 2\n",
    "\n",
    "Question£º\n",
    "Write a program that accepts sequence of lines as input and prints the lines after making all characters in the sentence capitalized.\n",
    "Suppose the following input is supplied to the program:\n",
    "Hello world\n",
    "Practice makes perfect\n",
    "Then, the output should be:\n",
    "HELLO WORLD\n",
    "PRACTICE MAKES PERFECT\n",
    "\n",
    "Hints:\n",
    "In case of input data being supplied to the question, it should be assumed to be a console input."
   ]
  },
  {
   "cell_type": "code",
   "execution_count": null,
   "id": "b51828e0-b002-4783-b90b-2bbdc1d15441",
   "metadata": {},
   "outputs": [],
   "source": [
    "' '.join((line.upper() for line in input().split()))"
   ]
  },
  {
   "cell_type": "markdown",
   "id": "1e6f5ecf-e408-4143-abdc-7e7181d9faae",
   "metadata": {
    "jp-MarkdownHeadingCollapsed": true
   },
   "source": [
    "### Question 10\n",
    "Level 2\n",
    "\n",
    "Question:\n",
    "Write a program that accepts a sequence of whitespace separated words as input and prints the words after removing all duplicate words and sorting them alphanumerically.\n",
    "Suppose the following input is supplied to the program:\n",
    "hello world and practice makes perfect and hello world again\n",
    "Then, the output should be:\n",
    "again and hello makes perfect practice world\n",
    "\n",
    "Hints:\n",
    "In case of input data being supplied to the question, it should be assumed to be a console input.\n",
    "We use set container to remove duplicated data automatically and then use sorted() to sort the data."
   ]
  },
  {
   "cell_type": "code",
   "execution_count": null,
   "id": "6b8c4c50-4928-47a9-b916-b47bb6b1b3fc",
   "metadata": {},
   "outputs": [],
   "source": [
    "words = input().split()\n",
    "' '.join(sorted(list(set(words))))"
   ]
  },
  {
   "cell_type": "markdown",
   "id": "7353fd33-d292-4fac-acca-c44bf133608c",
   "metadata": {
    "jp-MarkdownHeadingCollapsed": true
   },
   "source": [
    "### Question 11\n",
    "Level 2\n",
    "\n",
    "Question:\n",
    "Write a program which accepts a sequence of comma separated 4 digit binary numbers as its input and then check whether they are divisible by 5 or not. The numbers that are divisible by 5 are to be printed in a comma separated sequence.\n",
    "Example:\n",
    "0100,0011,1010,1001\n",
    "Then the output should be:\n",
    "1010\n",
    "Notes: Assume the data is input by console."
   ]
  },
  {
   "cell_type": "code",
   "execution_count": null,
   "id": "619b4d53-7ef4-46fa-8aa7-36ba1e3d7432",
   "metadata": {},
   "outputs": [],
   "source": [
    "binary_numbers = input().split(',')\n",
    "','.join((bin_num for bin_num in binary_numbers if int(bin_num, 2) % 5 == 0))"
   ]
  },
  {
   "cell_type": "markdown",
   "id": "14fbad61-4a29-443c-bb4b-21b64dc48bcf",
   "metadata": {
    "jp-MarkdownHeadingCollapsed": true
   },
   "source": [
    "### Question 12\n",
    "Level 2\n",
    "\n",
    "Question:\n",
    "Write a program, which will find all such numbers between 1000 and 3000 (both included) such that each digit of the number is an even number.\n",
    "The numbers obtained should be printed in a comma-separated sequence on a single line.\n",
    "\n",
    "Hints:\n",
    "In case of input data being supplied to the question, it should be assumed to be a console input."
   ]
  },
  {
   "cell_type": "code",
   "execution_count": null,
   "id": "c1627eb3-adb1-4c59-aa0b-6d5747ca48bb",
   "metadata": {},
   "outputs": [],
   "source": [
    "numbers = range(1000, 3001)\n",
    "','.join((str(number) for number in numbers if all(int(digit) % 2 == 0 for digit in str(number))))"
   ]
  },
  {
   "cell_type": "markdown",
   "id": "b6d70f17-5101-4207-ae53-5c947f886e01",
   "metadata": {
    "jp-MarkdownHeadingCollapsed": true
   },
   "source": [
    "### Question 13\n",
    "Level 2\n",
    "\n",
    "Question:\n",
    "Write a program that accepts a sentence and calculate the number of letters and digits.\n",
    "Suppose the following input is supplied to the program:\n",
    "hello world! 123\n",
    "Then, the output should be:\n",
    "LETTERS 10\n",
    "DIGITS 3\n",
    "\n",
    "Hints:\n",
    "In case of input data being supplied to the question, it should be assumed to be a console input."
   ]
  },
  {
   "cell_type": "code",
   "execution_count": null,
   "id": "853c4313-558f-44cb-9d67-febef4364e4e",
   "metadata": {},
   "outputs": [],
   "source": [
    "sentence = input()\n",
    "\n",
    "letters, digits = 0, 0\n",
    "for letter in sentence:\n",
    "    if letter.isdigit():\n",
    "        digits += 1\n",
    "    elif letter.isalpha():\n",
    "        letters += 1\n",
    "print(f'LETTERS {letters} DIGITS {digits}')"
   ]
  },
  {
   "cell_type": "markdown",
   "id": "8cae0913-759a-40d0-8c3c-881d997cfc36",
   "metadata": {
    "jp-MarkdownHeadingCollapsed": true
   },
   "source": [
    "### Question 14\n",
    "Level 2\n",
    "\n",
    "Question:\n",
    "Write a program that accepts a sentence and calculate the number of upper case letters and lower case letters.\n",
    "Suppose the following input is supplied to the program:\n",
    "Hello world!\n",
    "Then, the output should be:\n",
    "UPPER CASE 1\n",
    "LOWER CASE 9\n",
    "\n",
    "Hints:\n",
    "In case of input data being supplied to the question, it should be assumed to be a console input."
   ]
  },
  {
   "cell_type": "code",
   "execution_count": null,
   "id": "13183f6f-c4bd-479a-a68e-ec935363d0c2",
   "metadata": {},
   "outputs": [],
   "source": [
    "sentence = input()\n",
    "upper_case, lower_case = 0, 0\n",
    "\n",
    "for letter in sentence:\n",
    "    if letter.isupper():\n",
    "        upper_case += 1\n",
    "    elif letter.islower():\n",
    "        lower_case += 1\n",
    "print(f'UPPER CASE {upper_case} LOWER CASE {lower_case}')\n"
   ]
  },
  {
   "cell_type": "markdown",
   "id": "4ae457c1-843e-4e35-9f99-1d68b048173e",
   "metadata": {},
   "source": [
    "### Question 15\n",
    "Level 2\n",
    "\n",
    "Question:\n",
    "Write a program that computes the value of a+aa+aaa+aaaa with a given digit as the value of a.\n",
    "Suppose the following input is supplied to the program:\n",
    "9\n",
    "Then, the output should be:\n",
    "11106\n",
    "\n",
    "Hints:\n",
    "In case of input data being supplied to the question, it should be assumed to be a console input."
   ]
  },
  {
   "cell_type": "code",
   "execution_count": null,
   "id": "ad278653-4f1b-4bb7-91f3-c25dfd15b306",
   "metadata": {},
   "outputs": [],
   "source": [
    "number = input()\n",
    "computes_value = lambda number: sum(int(number*i) for i in range(1, 5))\n",
    "computes_value(number)"
   ]
  },
  {
   "cell_type": "markdown",
   "id": "6c8b0685-ee40-43ed-a4e8-62f6e62c9ca0",
   "metadata": {},
   "source": [
    "### Question 16\n",
    "Level 2\n",
    "\n",
    "Question:\n",
    "Use a list comprehension to square each odd number in a list. The list is input by a sequence of comma-separated numbers.\n",
    "Suppose the following input is supplied to the program:\n",
    "1,2,3,4,5,6,7,8,9\n",
    "Then, the output should be:\n",
    "1,3,5,7,9\n",
    "\n",
    "Hints:\n",
    "In case of input data being supplied to the question, it should be assumed to be a console input."
   ]
  },
  {
   "cell_type": "code",
   "execution_count": 2,
   "id": "1d57b8ff-10c1-4bae-8377-eb6c2713b585",
   "metadata": {},
   "outputs": [
    {
     "name": "stdin",
     "output_type": "stream",
     "text": [
      " 1,2,3,4,5,6,7,8,9\n"
     ]
    },
    {
     "data": {
      "text/plain": [
       "[1, 3, 5, 7, 9]"
      ]
     },
     "execution_count": 2,
     "metadata": {},
     "output_type": "execute_result"
    }
   ],
   "source": [
    "numbers = map(int, input().split(','))\n",
    "odd_numbers = [number for number in numbers if number % 2]\n",
    "odd_numbers"
   ]
  },
  {
   "cell_type": "markdown",
   "id": "bc2a0adf-4f9d-4bcc-a3e0-8904cd9a7f81",
   "metadata": {},
   "source": [
    "### Question 17\n",
    "Level 2\n",
    "\n",
    "Question:\n",
    "Write a program that computes the net amount of a bank account based a transaction log from console input. The transaction log format is shown as following:\n",
    "D 100\n",
    "W 200\n",
    "\n",
    "D means deposit while W means withdrawal.\n",
    "Suppose the following input is supplied to the program:\n",
    "D 300\n",
    "D 300\n",
    "W 200\n",
    "D 100\n",
    "Then, the output should be:\n",
    "500\n",
    "\n",
    "Hints:\n",
    "In case of input data being supplied to the question, it should be assumed to be a console input."
   ]
  },
  {
   "cell_type": "code",
   "execution_count": 8,
   "id": "9ba82913-a1b2-4e6b-b7ab-268787e2ab94",
   "metadata": {},
   "outputs": [
    {
     "name": "stdin",
     "output_type": "stream",
     "text": [
      " D 300\n",
      " D 300\n",
      " W 200\n",
      " D 100\n",
      " \n"
     ]
    },
    {
     "data": {
      "text/plain": [
       "500"
      ]
     },
     "execution_count": 8,
     "metadata": {},
     "output_type": "execute_result"
    }
   ],
   "source": [
    "sum = 0\n",
    "while ((stdin := input()) != ''):\n",
    "    operation, value = stdin.split()\n",
    "\n",
    "    if operation == 'D':\n",
    "        sum += int(value)\n",
    "    elif operation == 'W':\n",
    "        sum -= int(value)\n",
    "sum"
   ]
  },
  {
   "cell_type": "markdown",
   "id": "b62e0d30-91cf-45c1-b4ce-e53d0bb25612",
   "metadata": {},
   "source": [
    "### Question 18\n",
    "Level 3\n",
    "\n",
    "Question:\n",
    "A website requires the users to input username and password to register. Write a program to check the validity of password input by users.\n",
    "Following are the criteria for checking the password:\n",
    "1. At least 1 letter between [a-z]\n",
    "2. At least 1 number between [0-9]\n",
    "1. At least 1 letter between [A-Z]\n",
    "3. At least 1 character from [$#@]\n",
    "4. Minimum length of transaction password: 6\n",
    "5. Maximum length of transaction password: 12\n",
    "Your program should accept a sequence of comma separated passwords and will check them according to the above criteria. Passwords that match the criteria are to be printed, each separated by a comma.\n",
    "Example\n",
    "If the following passwords are given as input to the program:\n",
    "ABd1234@1,a F1#,2w3E*,2We3345\n",
    "Then, the output of the program should be:\n",
    "ABd1234@1\n",
    "\n",
    "Hints:\n",
    "In case of input data being supplied to the question, it should be assumed to be a console input."
   ]
  },
  {
   "cell_type": "code",
   "execution_count": 26,
   "id": "8b357363-a683-416f-9331-a9fcdacc184e",
   "metadata": {},
   "outputs": [
    {
     "name": "stdin",
     "output_type": "stream",
     "text": [
      " ABd1234@1,a F1#,2w3E*,2We3345\n"
     ]
    },
    {
     "name": "stdout",
     "output_type": "stream",
     "text": [
      "ABd1234@1\n"
     ]
    }
   ],
   "source": [
    "import re\n",
    "\n",
    "passwords = input().split(',')\n",
    "valid_passwords = []\n",
    "for p in passwords:\n",
    "    pass_len = len(p)\n",
    "    if pass_len<6 or pass_len>12:\n",
    "        continue\n",
    "\n",
    "    if not re.search(\"[a-z]\",p):\n",
    "        continue\n",
    "    elif not re.search(\"[0-9]\",p):\n",
    "        continue\n",
    "    elif not re.search(\"[A-Z]\",p):\n",
    "        continue\n",
    "    elif not re.search(\"[$#@]\",p):\n",
    "        continue\n",
    "    elif re.search(\"\\s\",p):\n",
    "        continue\n",
    "\n",
    "    valid_passwords.append(p)\n",
    "print(\",\".join(valid_passwords))"
   ]
  },
  {
   "cell_type": "markdown",
   "id": "95656782-69f2-4a93-9981-10cc51ef2ce6",
   "metadata": {},
   "source": [
    "### Question 19\n",
    "Level 3\n",
    "\n",
    "Question:\n",
    "You are required to write a program to sort the (name, age, height) tuples by ascending order where name is string, age and height are numbers. The tuples are input by console. The sort criteria is:\n",
    "1: Sort based on name;\n",
    "2: Then sort based on age;\n",
    "3: Then sort by score.\n",
    "The priority is that name > age > score.\n",
    "If the following tuples are given as input to the program:\n",
    "Tom,19,80\n",
    "John,20,90\n",
    "Jony,17,91\n",
    "Jony,17,93\n",
    "Json,21,85\n",
    "Then, the output of the program should be:\n",
    "[('John', '20', '90'), ('Jony', '17', '91'), ('Jony', '17', '93'), ('Json', '21', '85'), ('Tom', '19', '80')]\n",
    "\n",
    "Hints:\n",
    "In case of input data being supplied to the question, it should be assumed to be a console input.\n",
    "We use itemgetter to enable multiple sort keys."
   ]
  },
  {
   "cell_type": "code",
   "execution_count": 16,
   "id": "cfcf2980-a946-4cf7-ab43-935454d28df1",
   "metadata": {},
   "outputs": [
    {
     "name": "stdin",
     "output_type": "stream",
     "text": [
      " Tom,19,80\n",
      " John,20,90\n",
      " \n"
     ]
    },
    {
     "data": {
      "text/plain": [
       "[('John', '20', '90'), ('Tom', '19', '80')]"
      ]
     },
     "execution_count": 16,
     "metadata": {},
     "output_type": "execute_result"
    }
   ],
   "source": [
    "from operator import itemgetter\n",
    "\n",
    "list_tuples = []\n",
    "while ((stdin := input()) != ''):\n",
    "    name, age, height = stdin.split(',')\n",
    "    list_tuples.append((name, age, height))\n",
    "sorted(list_tuples, key=itemgetter(0,1,2))"
   ]
  },
  {
   "cell_type": "markdown",
   "id": "2b1a8256-9504-40ed-b473-5659654ea319",
   "metadata": {},
   "source": [
    "### Question 20\n",
    "Level 3\n",
    "\n",
    "Question:\n",
    "Define a function with a generator which can iterate the numbers, which are divisible by 7, between a given range 0 and n.\n",
    "\n",
    "Hints:\n",
    "Consider use yield"
   ]
  },
  {
   "cell_type": "code",
   "execution_count": 25,
   "id": "62a77e23-fc1d-456e-bdd7-bdcff0a0645c",
   "metadata": {},
   "outputs": [
    {
     "name": "stdin",
     "output_type": "stream",
     "text": [
      " 15\n"
     ]
    },
    {
     "name": "stdout",
     "output_type": "stream",
     "text": [
      "0\n",
      "7\n",
      "14\n"
     ]
    }
   ],
   "source": [
    "n = int(input())\n",
    "\n",
    "def generator_divisible_by_7(n):\n",
    "    i = 0\n",
    "    while i < n:\n",
    "        i_current_value = i\n",
    "        i = i + 1\n",
    "        if i_current_value % 7 == 0:\n",
    "            yield i_current_value\n",
    "for i in generator_divisible_by_7(n):\n",
    "    print(i)"
   ]
  },
  {
   "cell_type": "code",
   "execution_count": null,
   "id": "0640b099-0409-40e7-b373-b75315181e80",
   "metadata": {},
   "outputs": [],
   "source": []
  }
 ],
 "metadata": {
  "kernelspec": {
   "display_name": "Python 3 (ipykernel)",
   "language": "python",
   "name": "python3"
  },
  "language_info": {
   "codemirror_mode": {
    "name": "ipython",
    "version": 3
   },
   "file_extension": ".py",
   "mimetype": "text/x-python",
   "name": "python",
   "nbconvert_exporter": "python",
   "pygments_lexer": "ipython3",
   "version": "3.10.10"
  }
 },
 "nbformat": 4,
 "nbformat_minor": 5
}
