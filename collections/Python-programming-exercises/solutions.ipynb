{
 "cells": [
  {
   "cell_type": "markdown",
   "id": "b15d029a-3159-4cf7-9bab-89264a83836e",
   "metadata": {
    "jp-MarkdownHeadingCollapsed": true
   },
   "source": [
    "### Question 1\n",
    "Level 1\n",
    "\n",
    "Question:\n",
    "Write a program which will find all such numbers which are divisible by 7 but are not a multiple of 5, between 2000 and 3200 (both included).\n",
    "The numbers obtained should be printed in a comma-separated sequence on a single line."
   ]
  },
  {
   "cell_type": "code",
   "execution_count": 1,
   "id": "8739936f-1e4e-48da-984b-87a2c1bc9b43",
   "metadata": {},
   "outputs": [
    {
     "data": {
      "text/plain": [
       "'2002,2009,2016,2023,2037,2044,2051,2058,2072,2079,2086,2093,2107,2114,2121,2128,2142,2149,2156,2163,2177,2184,2191,2198,2212,2219,2226,2233,2247,2254,2261,2268,2282,2289,2296,2303,2317,2324,2331,2338,2352,2359,2366,2373,2387,2394,2401,2408,2422,2429,2436,2443,2457,2464,2471,2478,2492,2499,2506,2513,2527,2534,2541,2548,2562,2569,2576,2583,2597,2604,2611,2618,2632,2639,2646,2653,2667,2674,2681,2688,2702,2709,2716,2723,2737,2744,2751,2758,2772,2779,2786,2793,2807,2814,2821,2828,2842,2849,2856,2863,2877,2884,2891,2898,2912,2919,2926,2933,2947,2954,2961,2968,2982,2989,2996,3003,3017,3024,3031,3038,3052,3059,3066,3073,3087,3094,3101,3108,3122,3129,3136,3143,3157,3164,3171,3178,3192,3199'"
      ]
     },
     "execution_count": 1,
     "metadata": {},
     "output_type": "execute_result"
    }
   ],
   "source": [
    "numbers = [str(number) for number in range(2000, 3201) if number % 7 == 0 and number % 5]\n",
    "','.join(numbers)"
   ]
  },
  {
   "cell_type": "markdown",
   "id": "779bc69a-82b4-423b-972a-0ff8c0d60e02",
   "metadata": {
    "jp-MarkdownHeadingCollapsed": true
   },
   "source": [
    "### Question 2\n",
    "Level 1\n",
    "\n",
    "Question:\n",
    "Write a program which can compute the factorial of a given numbers.\n",
    "The results should be printed in a comma-separated sequence on a single line.\n",
    "Suppose the following input is supplied to the program:\n",
    "8\n",
    "Then, the output should be:\n",
    "40320\n",
    "\n",
    "Hints:\n",
    "In case of input data being supplied to the question, it should be assumed to be a console input."
   ]
  },
  {
   "cell_type": "code",
   "execution_count": null,
   "id": "e078ed92-2045-43d2-9d0f-b0d2b84f592d",
   "metadata": {
    "is_executing": true,
    "scrolled": true
   },
   "outputs": [],
   "source": [
    "from functools import reduce\n",
    "\n",
    "number = int(input(''))\n",
    "factorial = lambda number: reduce(lambda x, y: x * y, range(1, number+1))\n",
    "print(factorial(number))"
   ]
  },
  {
   "cell_type": "markdown",
   "id": "c14b3d55-3cc6-4648-98ba-76bbdf43f9a6",
   "metadata": {
    "jp-MarkdownHeadingCollapsed": true
   },
   "source": [
    "### Question 3\n",
    "Level 1\n",
    "\n",
    "Question:\n",
    "With a given integral number n, write a program to generate a dictionary that contains (i, i*i) such that is an integral number between 1 and n (both included). and then the program should print the dictionary.\n",
    "Suppose the following input is supplied to the program:\n",
    "8\n",
    "Then, the output should be:\n",
    "{1: 1, 2: 4, 3: 9, 4: 16, 5: 25, 6: 36, 7: 49, 8: 64}\n",
    "\n",
    "Hints:\n",
    "In case of input data being supplied to the question, it should be assumed to be a console input.\n",
    "Consider use dict()"
   ]
  },
  {
   "cell_type": "code",
   "execution_count": null,
   "id": "aca19685-b81f-4392-8ecb-ccc63898ae3e",
   "metadata": {},
   "outputs": [],
   "source": [
    "number = int(input(''))\n",
    "generate_dict = lambda number: {i: i*i for i in range(1, number+1)}\n",
    "generate_dict(number)"
   ]
  },
  {
   "cell_type": "markdown",
   "id": "53fe0178-5dee-43f8-9206-3f1a316443a1",
   "metadata": {
    "jp-MarkdownHeadingCollapsed": true
   },
   "source": [
    "### Question 4\n",
    "Level 1\n",
    "\n",
    "Question:\n",
    "Write a program which accepts a sequence of comma-separated numbers from console and generate a list and a tuple which contains every number.\n",
    "Suppose the following input is supplied to the program:\n",
    "34,67,55,33,12,98\n",
    "Then, the output should be:\n",
    "['34', '67', '55', '33', '12', '98']\n",
    "('34', '67', '55', '33', '12', '98')\n",
    "\n",
    "Hints:\n",
    "In case of input data being supplied to the question, it should be assumed to be a console input.\n",
    "tuple() method can convert list to tuple"
   ]
  },
  {
   "cell_type": "code",
   "execution_count": null,
   "id": "95abb37f-36d3-4d54-987f-1f5e44e264de",
   "metadata": {},
   "outputs": [],
   "source": [
    "numbers = input('').split(',')\n",
    "print(numbers)\n",
    "print(tuple(numbers))"
   ]
  },
  {
   "cell_type": "markdown",
   "id": "cf2808b6-41f1-404b-95b3-f2e8e6fc6200",
   "metadata": {
    "jp-MarkdownHeadingCollapsed": true
   },
   "source": [
    "### Question 5\n",
    "Level 1\n",
    "\n",
    "Question:\n",
    "Define a class which has at least two methods:\n",
    "getString: to get a string from console input\n",
    "printString: to print the string in upper case.\n",
    "Also please include simple test function to test the class methods.\n",
    "\n",
    "Hints:\n",
    "Use __init__ method to construct some parameters"
   ]
  },
  {
   "cell_type": "code",
   "execution_count": null,
   "id": "921f5516-37b5-4a11-b534-c8a3f344231a",
   "metadata": {},
   "outputs": [],
   "source": [
    "class StringIO:\n",
    "    def __init__(self):\n",
    "        self.string = ''\n",
    "\n",
    "    def getString(self):\n",
    "        self.string = input()\n",
    "\n",
    "    def printString(self):\n",
    "        print(self.string.upper())\n",
    "\n",
    "string_io = StringIO()\n",
    "test_class = lambda: (string_io.getString(), string_io.printString())[0]\n",
    "test_class()"
   ]
  },
  {
   "cell_type": "markdown",
   "id": "4db303e9-cbd3-4eec-bc9b-82706bfe9378",
   "metadata": {
    "jp-MarkdownHeadingCollapsed": true
   },
   "source": [
    "### Question 6\n",
    "Level 2\n",
    "\n",
    "Question:\n",
    "Write a program that calculates and prints the value according to the given formula:\n",
    "Q = Square root of [(2 * C * D)/H]\n",
    "Following are the fixed values of C and H:\n",
    "C is 50. H is 30.\n",
    "D is the variable whose values should be input to your program in a comma-separated sequence.\n",
    "Example\n",
    "Let us assume the following comma separated input sequence is given to the program:\n",
    "100,150,180\n",
    "The output of the program should be:\n",
    "18,22,24\n",
    "\n",
    "Hints:\n",
    "If the output received is in decimal form, it should be rounded off to its nearest value (for example, if the output received is 26.0, it should be printed as 26)\n",
    "In case of input data being supplied to the question, it should be assumed to be a console input."
   ]
  },
  {
   "cell_type": "code",
   "execution_count": null,
   "id": "871d2790-424f-476b-bd8c-437e7d0a9c84",
   "metadata": {},
   "outputs": [],
   "source": [
    "c, h = 50, 30\n",
    "numbers = input().split(',')\n",
    "calculates = lambda numbers: [round(((2 * c * int(d)) / h) ** 0.5) for d in numbers]\n",
    "calculates(numbers)"
   ]
  },
  {
   "cell_type": "markdown",
   "id": "2d12f72b-df94-4d57-9bc8-5d0c90fb2e06",
   "metadata": {
    "jp-MarkdownHeadingCollapsed": true
   },
   "source": [
    "### Question 7\n",
    "Level 2\n",
    "\n",
    "Question:\n",
    "Write a program which takes 2 digits, X,Y as input and generates a 2-dimensional array. The element value in the i-th row and j-th column of the array should be i*j.\n",
    "Note: i=0,1.., X-1; j=0,1,¡­Y-1.\n",
    "Example\n",
    "Suppose the following inputs are given to the program:\n",
    "3,5\n",
    "Then, the output of the program should be:\n",
    "[[0, 0, 0, 0, 0], [0, 1, 2, 3, 4], [0, 2, 4, 6, 8]] \n",
    "\n",
    "Hints:\n",
    "Note: In case of input data being supplied to the question, it should be assumed to be a console input in a comma-separated form."
   ]
  },
  {
   "cell_type": "code",
   "execution_count": null,
   "id": "9133a6bf-08db-4e20-bffd-86f94ae7cd69",
   "metadata": {},
   "outputs": [],
   "source": [
    "x, y = input().split(',')\n",
    "gen_two_dimensional_array = lambda x, y: [[i * j for j in range(int(y))] for i in range(int(x))]\n",
    "gen_two_dimensional_array(x, y)"
   ]
  },
  {
   "cell_type": "markdown",
   "id": "38b59601-5910-4719-a7e9-39711320e1f2",
   "metadata": {
    "jp-MarkdownHeadingCollapsed": true
   },
   "source": [
    "### Question 8\n",
    "Level 2\n",
    "\n",
    "Question:\n",
    "Write a program that accepts a comma separated sequence of words as input and prints the words in a comma-separated sequence after sorting them alphabetically.\n",
    "Suppose the following input is supplied to the program:\n",
    "without,hello,bag,world\n",
    "Then, the output should be:\n",
    "bag,hello,without,world\n",
    "\n",
    "Hints:\n",
    "In case of input data being supplied to the question, it should be assumed to be a console input."
   ]
  },
  {
   "cell_type": "code",
   "execution_count": null,
   "id": "8a3a75eb-0a0b-49fa-a345-b47fc60f41a2",
   "metadata": {},
   "outputs": [],
   "source": [
    "words = input().split(',')\n",
    "','.join(sorted(words))"
   ]
  },
  {
   "cell_type": "markdown",
   "id": "21b41208-04b5-4dff-b247-08bceb004e5f",
   "metadata": {
    "jp-MarkdownHeadingCollapsed": true
   },
   "source": [
    "### Question 9\n",
    "Level 2\n",
    "\n",
    "Question£º\n",
    "Write a program that accepts sequence of lines as input and prints the lines after making all characters in the sentence capitalized.\n",
    "Suppose the following input is supplied to the program:\n",
    "Hello world\n",
    "Practice makes perfect\n",
    "Then, the output should be:\n",
    "HELLO WORLD\n",
    "PRACTICE MAKES PERFECT\n",
    "\n",
    "Hints:\n",
    "In case of input data being supplied to the question, it should be assumed to be a console input."
   ]
  },
  {
   "cell_type": "code",
   "execution_count": null,
   "id": "b51828e0-b002-4783-b90b-2bbdc1d15441",
   "metadata": {},
   "outputs": [],
   "source": [
    "' '.join((line.upper() for line in input().split()))"
   ]
  },
  {
   "cell_type": "markdown",
   "id": "1e6f5ecf-e408-4143-abdc-7e7181d9faae",
   "metadata": {
    "jp-MarkdownHeadingCollapsed": true
   },
   "source": [
    "### Question 10\n",
    "Level 2\n",
    "\n",
    "Question:\n",
    "Write a program that accepts a sequence of whitespace separated words as input and prints the words after removing all duplicate words and sorting them alphanumerically.\n",
    "Suppose the following input is supplied to the program:\n",
    "hello world and practice makes perfect and hello world again\n",
    "Then, the output should be:\n",
    "again and hello makes perfect practice world\n",
    "\n",
    "Hints:\n",
    "In case of input data being supplied to the question, it should be assumed to be a console input.\n",
    "We use set container to remove duplicated data automatically and then use sorted() to sort the data."
   ]
  },
  {
   "cell_type": "code",
   "execution_count": null,
   "id": "6b8c4c50-4928-47a9-b916-b47bb6b1b3fc",
   "metadata": {},
   "outputs": [],
   "source": [
    "words = input().split()\n",
    "' '.join(sorted(list(set(words))))"
   ]
  },
  {
   "cell_type": "markdown",
   "id": "7353fd33-d292-4fac-acca-c44bf133608c",
   "metadata": {
    "jp-MarkdownHeadingCollapsed": true
   },
   "source": [
    "### Question 11\n",
    "Level 2\n",
    "\n",
    "Question:\n",
    "Write a program which accepts a sequence of comma separated 4 digit binary numbers as its input and then check whether they are divisible by 5 or not. The numbers that are divisible by 5 are to be printed in a comma separated sequence.\n",
    "Example:\n",
    "0100,0011,1010,1001\n",
    "Then the output should be:\n",
    "1010\n",
    "Notes: Assume the data is input by console."
   ]
  },
  {
   "cell_type": "code",
   "execution_count": null,
   "id": "619b4d53-7ef4-46fa-8aa7-36ba1e3d7432",
   "metadata": {},
   "outputs": [],
   "source": [
    "binary_numbers = input().split(',')\n",
    "','.join((bin_num for bin_num in binary_numbers if int(bin_num, 2) % 5 == 0))"
   ]
  },
  {
   "cell_type": "markdown",
   "id": "14fbad61-4a29-443c-bb4b-21b64dc48bcf",
   "metadata": {
    "jp-MarkdownHeadingCollapsed": true
   },
   "source": [
    "### Question 12\n",
    "Level 2\n",
    "\n",
    "Question:\n",
    "Write a program, which will find all such numbers between 1000 and 3000 (both included) such that each digit of the number is an even number.\n",
    "The numbers obtained should be printed in a comma-separated sequence on a single line.\n",
    "\n",
    "Hints:\n",
    "In case of input data being supplied to the question, it should be assumed to be a console input."
   ]
  },
  {
   "cell_type": "code",
   "execution_count": null,
   "id": "c1627eb3-adb1-4c59-aa0b-6d5747ca48bb",
   "metadata": {},
   "outputs": [],
   "source": [
    "numbers = range(1000, 3001)\n",
    "','.join((str(number) for number in numbers if all(int(digit) % 2 == 0 for digit in str(number))))"
   ]
  },
  {
   "cell_type": "markdown",
   "id": "b6d70f17-5101-4207-ae53-5c947f886e01",
   "metadata": {
    "jp-MarkdownHeadingCollapsed": true
   },
   "source": [
    "### Question 13\n",
    "Level 2\n",
    "\n",
    "Question:\n",
    "Write a program that accepts a sentence and calculate the number of letters and digits.\n",
    "Suppose the following input is supplied to the program:\n",
    "hello world! 123\n",
    "Then, the output should be:\n",
    "LETTERS 10\n",
    "DIGITS 3\n",
    "\n",
    "Hints:\n",
    "In case of input data being supplied to the question, it should be assumed to be a console input."
   ]
  },
  {
   "cell_type": "code",
   "execution_count": null,
   "id": "853c4313-558f-44cb-9d67-febef4364e4e",
   "metadata": {},
   "outputs": [],
   "source": [
    "sentence = input()\n",
    "\n",
    "letters, digits = 0, 0\n",
    "for letter in sentence:\n",
    "    if letter.isdigit():\n",
    "        digits += 1\n",
    "    elif letter.isalpha():\n",
    "        letters += 1\n",
    "print(f'LETTERS {letters} DIGITS {digits}')"
   ]
  },
  {
   "cell_type": "markdown",
   "id": "8cae0913-759a-40d0-8c3c-881d997cfc36",
   "metadata": {
    "jp-MarkdownHeadingCollapsed": true
   },
   "source": [
    "### Question 14\n",
    "Level 2\n",
    "\n",
    "Question:\n",
    "Write a program that accepts a sentence and calculate the number of upper case letters and lower case letters.\n",
    "Suppose the following input is supplied to the program:\n",
    "Hello world!\n",
    "Then, the output should be:\n",
    "UPPER CASE 1\n",
    "LOWER CASE 9\n",
    "\n",
    "Hints:\n",
    "In case of input data being supplied to the question, it should be assumed to be a console input."
   ]
  },
  {
   "cell_type": "code",
   "execution_count": null,
   "id": "13183f6f-c4bd-479a-a68e-ec935363d0c2",
   "metadata": {},
   "outputs": [],
   "source": [
    "sentence = input()\n",
    "upper_case, lower_case = 0, 0\n",
    "\n",
    "for letter in sentence:\n",
    "    if letter.isupper():\n",
    "        upper_case += 1\n",
    "    elif letter.islower():\n",
    "        lower_case += 1\n",
    "print(f'UPPER CASE {upper_case} LOWER CASE {lower_case}')\n"
   ]
  },
  {
   "cell_type": "markdown",
   "id": "4ae457c1-843e-4e35-9f99-1d68b048173e",
   "metadata": {},
   "source": [
    "### Question 15\n",
    "Level 2\n",
    "\n",
    "Question:\n",
    "Write a program that computes the value of a+aa+aaa+aaaa with a given digit as the value of a.\n",
    "Suppose the following input is supplied to the program:\n",
    "9\n",
    "Then, the output should be:\n",
    "11106\n",
    "\n",
    "Hints:\n",
    "In case of input data being supplied to the question, it should be assumed to be a console input."
   ]
  },
  {
   "cell_type": "code",
   "execution_count": null,
   "id": "ad278653-4f1b-4bb7-91f3-c25dfd15b306",
   "metadata": {},
   "outputs": [],
   "source": [
    "number = input()\n",
    "computes_value = lambda number: sum(int(number*i) for i in range(1, 5))\n",
    "computes_value(number)"
   ]
  },
  {
   "cell_type": "markdown",
   "id": "6c8b0685-ee40-43ed-a4e8-62f6e62c9ca0",
   "metadata": {},
   "source": [
    "### Question 16\n",
    "Level 2\n",
    "\n",
    "Question:\n",
    "Use a list comprehension to square each odd number in a list. The list is input by a sequence of comma-separated numbers.\n",
    "Suppose the following input is supplied to the program:\n",
    "1,2,3,4,5,6,7,8,9\n",
    "Then, the output should be:\n",
    "1,3,5,7,9\n",
    "\n",
    "Hints:\n",
    "In case of input data being supplied to the question, it should be assumed to be a console input."
   ]
  },
  {
   "cell_type": "code",
   "execution_count": 2,
   "id": "1d57b8ff-10c1-4bae-8377-eb6c2713b585",
   "metadata": {},
   "outputs": [
    {
     "name": "stdin",
     "output_type": "stream",
     "text": [
      " 1,2,3,4,5,6,7,8,9\n"
     ]
    },
    {
     "data": {
      "text/plain": [
       "[1, 3, 5, 7, 9]"
      ]
     },
     "execution_count": 2,
     "metadata": {},
     "output_type": "execute_result"
    }
   ],
   "source": [
    "numbers = map(int, input().split(','))\n",
    "odd_numbers = [number for number in numbers if number % 2]\n",
    "odd_numbers"
   ]
  },
  {
   "cell_type": "markdown",
   "id": "bc2a0adf-4f9d-4bcc-a3e0-8904cd9a7f81",
   "metadata": {},
   "source": [
    "### Question 17\n",
    "Level 2\n",
    "\n",
    "Question:\n",
    "Write a program that computes the net amount of a bank account based a transaction log from console input. The transaction log format is shown as following:\n",
    "D 100\n",
    "W 200\n",
    "\n",
    "D means deposit while W means withdrawal.\n",
    "Suppose the following input is supplied to the program:\n",
    "D 300\n",
    "D 300\n",
    "W 200\n",
    "D 100\n",
    "Then, the output should be:\n",
    "500\n",
    "\n",
    "Hints:\n",
    "In case of input data being supplied to the question, it should be assumed to be a console input."
   ]
  },
  {
   "cell_type": "code",
   "execution_count": 8,
   "id": "9ba82913-a1b2-4e6b-b7ab-268787e2ab94",
   "metadata": {},
   "outputs": [
    {
     "name": "stdin",
     "output_type": "stream",
     "text": [
      " D 300\n",
      " D 300\n",
      " W 200\n",
      " D 100\n",
      " \n"
     ]
    },
    {
     "data": {
      "text/plain": [
       "500"
      ]
     },
     "execution_count": 8,
     "metadata": {},
     "output_type": "execute_result"
    }
   ],
   "source": [
    "sum = 0\n",
    "while ((stdin := input()) != ''):\n",
    "    operation, value = stdin.split()\n",
    "\n",
    "    if operation == 'D':\n",
    "        sum += int(value)\n",
    "    elif operation == 'W':\n",
    "        sum -= int(value)\n",
    "sum"
   ]
  },
  {
   "cell_type": "markdown",
   "id": "b62e0d30-91cf-45c1-b4ce-e53d0bb25612",
   "metadata": {},
   "source": [
    "### Question 18\n",
    "Level 3\n",
    "\n",
    "Question:\n",
    "A website requires the users to input username and password to register. Write a program to check the validity of password input by users.\n",
    "Following are the criteria for checking the password:\n",
    "1. At least 1 letter between [a-z]\n",
    "2. At least 1 number between [0-9]\n",
    "1. At least 1 letter between [A-Z]\n",
    "3. At least 1 character from [$#@]\n",
    "4. Minimum length of transaction password: 6\n",
    "5. Maximum length of transaction password: 12\n",
    "Your program should accept a sequence of comma separated passwords and will check them according to the above criteria. Passwords that match the criteria are to be printed, each separated by a comma.\n",
    "Example\n",
    "If the following passwords are given as input to the program:\n",
    "ABd1234@1,a F1#,2w3E*,2We3345\n",
    "Then, the output of the program should be:\n",
    "ABd1234@1\n",
    "\n",
    "Hints:\n",
    "In case of input data being supplied to the question, it should be assumed to be a console input."
   ]
  },
  {
   "cell_type": "code",
   "execution_count": 26,
   "id": "8b357363-a683-416f-9331-a9fcdacc184e",
   "metadata": {},
   "outputs": [
    {
     "name": "stdin",
     "output_type": "stream",
     "text": [
      " ABd1234@1,a F1#,2w3E*,2We3345\n"
     ]
    },
    {
     "name": "stdout",
     "output_type": "stream",
     "text": [
      "ABd1234@1\n"
     ]
    }
   ],
   "source": [
    "import re\n",
    "\n",
    "passwords = input().split(',')\n",
    "valid_passwords = []\n",
    "for p in passwords:\n",
    "    pass_len = len(p)\n",
    "    if pass_len<6 or pass_len>12:\n",
    "        continue\n",
    "\n",
    "    if not re.search(\"[a-z]\",p):\n",
    "        continue\n",
    "    elif not re.search(\"[0-9]\",p):\n",
    "        continue\n",
    "    elif not re.search(\"[A-Z]\",p):\n",
    "        continue\n",
    "    elif not re.search(\"[$#@]\",p):\n",
    "        continue\n",
    "    elif re.search(\"\\s\",p):\n",
    "        continue\n",
    "\n",
    "    valid_passwords.append(p)\n",
    "print(\",\".join(valid_passwords))"
   ]
  },
  {
   "cell_type": "markdown",
   "id": "95656782-69f2-4a93-9981-10cc51ef2ce6",
   "metadata": {},
   "source": [
    "### Question 19\n",
    "Level 3\n",
    "\n",
    "Question:\n",
    "You are required to write a program to sort the (name, age, height) tuples by ascending order where name is string, age and height are numbers. The tuples are input by console. The sort criteria is:\n",
    "1: Sort based on name;\n",
    "2: Then sort based on age;\n",
    "3: Then sort by score.\n",
    "The priority is that name > age > score.\n",
    "If the following tuples are given as input to the program:\n",
    "Tom,19,80\n",
    "John,20,90\n",
    "Jony,17,91\n",
    "Jony,17,93\n",
    "Json,21,85\n",
    "Then, the output of the program should be:\n",
    "[('John', '20', '90'), ('Jony', '17', '91'), ('Jony', '17', '93'), ('Json', '21', '85'), ('Tom', '19', '80')]\n",
    "\n",
    "Hints:\n",
    "In case of input data being supplied to the question, it should be assumed to be a console input.\n",
    "We use itemgetter to enable multiple sort keys."
   ]
  },
  {
   "cell_type": "code",
   "execution_count": 16,
   "id": "cfcf2980-a946-4cf7-ab43-935454d28df1",
   "metadata": {},
   "outputs": [
    {
     "name": "stdin",
     "output_type": "stream",
     "text": [
      " Tom,19,80\n",
      " John,20,90\n",
      " \n"
     ]
    },
    {
     "data": {
      "text/plain": [
       "[('John', '20', '90'), ('Tom', '19', '80')]"
      ]
     },
     "execution_count": 16,
     "metadata": {},
     "output_type": "execute_result"
    }
   ],
   "source": [
    "from operator import itemgetter\n",
    "\n",
    "list_tuples = []\n",
    "while ((stdin := input()) != ''):\n",
    "    name, age, height = stdin.split(',')\n",
    "    list_tuples.append((name, age, height))\n",
    "sorted(list_tuples, key=itemgetter(0,1,2))"
   ]
  },
  {
   "cell_type": "markdown",
   "id": "2b1a8256-9504-40ed-b473-5659654ea319",
   "metadata": {},
   "source": [
    "### Question 20\n",
    "Level 3\n",
    "\n",
    "Question:\n",
    "Define a function with a generator which can iterate the numbers, which are divisible by 7, between a given range 0 and n.\n",
    "\n",
    "Hints:\n",
    "Consider use yield"
   ]
  },
  {
   "cell_type": "code",
   "execution_count": 25,
   "id": "62a77e23-fc1d-456e-bdd7-bdcff0a0645c",
   "metadata": {},
   "outputs": [
    {
     "name": "stdin",
     "output_type": "stream",
     "text": [
      " 15\n"
     ]
    },
    {
     "name": "stdout",
     "output_type": "stream",
     "text": [
      "0\n",
      "7\n",
      "14\n"
     ]
    }
   ],
   "source": [
    "n = int(input())\n",
    "\n",
    "def generator_divisible_by_7(n):\n",
    "    i = 0\n",
    "    while i < n:\n",
    "        i_current_value = i\n",
    "        i = i + 1\n",
    "        if i_current_value % 7 == 0:\n",
    "            yield i_current_value\n",
    "for i in generator_divisible_by_7(n):\n",
    "    print(i)"
   ]
  },
  {
   "cell_type": "markdown",
   "id": "adc53daf-eb23-4ef2-9cb5-63c6d70ae51b",
   "metadata": {},
   "source": [
    "### Question 21\n",
    "Level 3\n",
    "\n",
    "Question\n",
    "A robot moves in a plane starting from the original point (0,0). The robot can move toward UP, DOWN, LEFT and RIGHT with a given steps. The trace of robot movement is shown as the following:\n",
    "UP 5\n",
    "DOWN 3\n",
    "LEFT 3\n",
    "RIGHT 2\n",
    "¡­\n",
    "The numbers after the direction are steps. Please write a program to compute the distance from current position after a sequence of movement and original point. If the distance is a float, then just print the nearest integer.\n",
    "Example:\n",
    "If the following tuples are given as input to the program:\n",
    "UP 5\n",
    "DOWN 3\n",
    "LEFT 3\n",
    "RIGHT 2\n",
    "Then, the output of the program should be:\n",
    "2\n",
    "\n",
    "Hints:\n",
    "In case of input data being supplied to the question, it should be assumed to be a console input."
   ]
  },
  {
   "cell_type": "code",
   "execution_count": 21,
   "id": "bfe49899-e431-4e80-8c77-67ae9fa25982",
   "metadata": {},
   "outputs": [
    {
     "name": "stdin",
     "output_type": "stream",
     "text": [
      " UP 5\n",
      " \n"
     ]
    },
    {
     "data": {
      "text/plain": [
       "5"
      ]
     },
     "execution_count": 21,
     "metadata": {},
     "output_type": "execute_result"
    }
   ],
   "source": [
    "import math\n",
    "\n",
    "pos = [0, 0]\n",
    "while ((s := input()) != ''):   \n",
    "    direction, steps = s.split(\" \")\n",
    "    integer_steps = int(steps)\n",
    "    if direction==\"UP\":\n",
    "        pos[0] += integer_steps\n",
    "    elif direction==\"DOWN\":\n",
    "        pos[0] -= integer_steps\n",
    "    elif direction==\"LEFT\":\n",
    "        pos[1] -= integer_steps\n",
    "    elif direction==\"RIGHT\":\n",
    "        pos[1] += integer_steps\n",
    "\n",
    "int(round(math.sqrt(pos[1]**2+pos[0]**2)))"
   ]
  },
  {
   "cell_type": "markdown",
   "id": "88fd504d-b9e3-4a81-b763-bccb1c4bfa17",
   "metadata": {},
   "source": [
    "### Question 22\n",
    "Level 3\n",
    "\n",
    "Question:\n",
    "Write a program to compute the frequency of the words from the input. The output should output after sorting the key alphanumerically. \n",
    "Suppose the following input is supplied to the program:\n",
    "New to Python or choosing between Python 2 and Python 3? Read Python 2 or Python 3.\n",
    "Then, the output should be:\n",
    "2:2\n",
    "3.:1\n",
    "3?:1\n",
    "New:1\n",
    "Python:5\n",
    "Read:1\n",
    "and:1\n",
    "between:1\n",
    "choosing:1\n",
    "or:2\n",
    "to:1\n",
    "\n",
    "Hints\n",
    "In case of input data being supplied to the question, it should be assumed to be a console input."
   ]
  },
  {
   "cell_type": "code",
   "execution_count": null,
   "id": "8e7e2490-7950-453f-914f-30244631981f",
   "metadata": {},
   "outputs": [],
   "source": [
    "pass"
   ]
  },
  {
   "cell_type": "markdown",
   "id": "40394191-68b8-4f76-9a72-cf337b6884a7",
   "metadata": {},
   "source": [
    "### Question 23\n",
    "level 1\n",
    "\n",
    "Question:\n",
    "Write a method which can calculate square value of number\n",
    "\n",
    "Hints:\n",
    "Using the ** operator"
   ]
  },
  {
   "cell_type": "code",
   "execution_count": 6,
   "id": "8051dd13-6197-4cc3-8e14-ea995146009d",
   "metadata": {},
   "outputs": [
    {
     "name": "stdin",
     "output_type": "stream",
     "text": [
      " 5\n"
     ]
    },
    {
     "data": {
      "text/plain": [
       "25"
      ]
     },
     "execution_count": 6,
     "metadata": {},
     "output_type": "execute_result"
    }
   ],
   "source": [
    "square = lambda number: number*number\n",
    "square(int(input()))"
   ]
  },
  {
   "cell_type": "markdown",
   "id": "c4607cc3-82ad-4d31-962b-9c170e97e246",
   "metadata": {},
   "source": [
    "### Question 24\n",
    "Level 1\n",
    "\n",
    "Question:\n",
    "\n",
    "Python has many built-in functions, and if you do not know how to use it, you can read document online or find some books. But Python has a built-in document function for every built-in functions.\n",
    "\n",
    "Please write a program to print some Python built-in functions documents, such as abs(), int(), raw_input()\n",
    "\n",
    "And add document for your own function\n",
    "Hints:\n",
    "The built-in document method is __doc__"
   ]
  },
  {
   "cell_type": "code",
   "execution_count": 16,
   "id": "0af2ba68-eb1a-4272-bc54-3f87d4d20dce",
   "metadata": {},
   "outputs": [
    {
     "name": "stdout",
     "output_type": "stream",
     "text": [
      "Help on built-in function abs in module builtins:\n",
      "\n",
      "abs(x, /)\n",
      "    Return the absolute value of the argument.\n",
      "\n",
      "None\n",
      "int([x]) -> integer\n",
      "int(x, base=10) -> integer\n",
      "\n",
      "Convert a number or string to an integer, or return 0 if no arguments\n",
      "are given.  If x is a number, return x.__int__().  For floating point\n",
      "numbers, this truncates towards zero.\n",
      "\n",
      "If x is not a number or if base is given, then x must be a string,\n",
      "bytes, or bytearray instance representing an integer literal in the\n",
      "given base.  The literal can be preceded by '+' or '-' and be surrounded\n",
      "by whitespace.  The base defaults to 10.  Valid bases are 0 and 2-36.\n",
      "Base 0 means to interpret the base from the string as an integer literal.\n",
      ">>> int('0b100', base=0)\n",
      "4\n",
      "Forward raw_input to frontends\n",
      "\n",
      "        Raises\n",
      "        ------\n",
      "        StdinNotImplementedError if active frontend doesn't support stdin.\n",
      "        \n",
      "Help on function my_func in module __main__:\n",
      "\n",
      "my_func()\n",
      "    do smthng\n",
      "\n",
      "None\n",
      "do smthng\n"
     ]
    }
   ],
   "source": [
    "print(help(abs))\n",
    "print(int.__doc__)\n",
    "print(input.__doc__)\n",
    "\n",
    "def my_func():\n",
    "    \"\"\"do smthng\"\"\"\n",
    "\n",
    "print(help(my_func))\n",
    "print(my_func.__doc__)"
   ]
  },
  {
   "cell_type": "markdown",
   "id": "9ef022cd-5f00-40ba-9d71-46ba12b4bbb9",
   "metadata": {},
   "source": [
    "### Question 25\n",
    "Level 1\n",
    "\n",
    "Question:\n",
    "Define a class, which have a class parameter and have a same instance parameter.\n",
    "\n",
    "Hints:\n",
    "Define a instance parameter, need add it in __init__ method\n",
    "You can init a object with construct parameter or set the value later"
   ]
  },
  {
   "cell_type": "code",
   "execution_count": 28,
   "id": "bed9628d-69d2-4744-9d06-93fd5b3794bc",
   "metadata": {},
   "outputs": [
    {
     "name": "stdout",
     "output_type": "stream",
     "text": [
      "True\n",
      "True\n"
     ]
    }
   ],
   "source": [
    "class TestClass:\n",
    "    class_param = 'zxc'\n",
    "\n",
    "    def __init__(self, param = None):\n",
    "        self.class_param = param\n",
    "\n",
    "test1 = TestClass()\n",
    "test1.class_param = 'test'\n",
    "print(test1.class_param == 'test')\n",
    "test2 = TestClass(param='test')\n",
    "print(test2.class_param == 'test')"
   ]
  },
  {
   "cell_type": "markdown",
   "id": "8d6bc072-1b27-4c31-92a4-af7eafccb845",
   "metadata": {},
   "source": [
    "### Question 26:\n",
    "Define a function which can compute the sum of two numbers.\n",
    "\n",
    "Hints:\n",
    "Define a function with two numbers as arguments. You can compute the sum in the function and return the value."
   ]
  },
  {
   "cell_type": "code",
   "execution_count": 29,
   "id": "78ed46c5-79a9-4e02-b6ad-8da312dbffc9",
   "metadata": {},
   "outputs": [
    {
     "name": "stdin",
     "output_type": "stream",
     "text": [
      " 5\n",
      " 4\n"
     ]
    },
    {
     "data": {
      "text/plain": [
       "9"
      ]
     },
     "execution_count": 29,
     "metadata": {},
     "output_type": "execute_result"
    }
   ],
   "source": [
    "sum_two_numbers = lambda x, y: x + y\n",
    "sum_two_numbers(int(input()), int(input()))"
   ]
  },
  {
   "cell_type": "markdown",
   "id": "116f5670-93bb-47e9-aaf5-2a990843da19",
   "metadata": {},
   "source": [
    "### Question 27\n",
    "Define a function that can convert a integer into a string and print it in console.\n",
    "\n",
    "Hints:\n",
    "\n",
    "Use str() to convert a number to string."
   ]
  },
  {
   "cell_type": "code",
   "execution_count": 31,
   "id": "14659bb8-e19a-4219-8516-90da1c2eef9e",
   "metadata": {},
   "outputs": [
    {
     "name": "stdin",
     "output_type": "stream",
     "text": [
      " 14\n"
     ]
    },
    {
     "data": {
      "text/plain": [
       "'14'"
      ]
     },
     "execution_count": 31,
     "metadata": {},
     "output_type": "execute_result"
    }
   ],
   "source": [
    "convert = lambda integer: str(integer)\n",
    "convert(input())"
   ]
  },
  {
   "cell_type": "code",
   "execution_count": null,
   "id": "88f8dd81-465d-4456-a750-0b041fb63344",
   "metadata": {},
   "outputs": [],
   "source": [
    "### Question 28\n",
    "Define a function that can convert a integer into a string and print it in console.\n",
    "\n",
    "Hints:\n",
    "\n",
    "Use str() to convert a number to string."
   ]
  },
  {
   "cell_type": "code",
   "execution_count": null,
   "id": "c9752bf7-1e49-4d3d-80fa-86dd1ad96fa5",
   "metadata": {},
   "outputs": [],
   "source": [
    "pass\n",
    "# duplicate wtf"
   ]
  },
  {
   "cell_type": "markdown",
   "id": "b48e2753-504e-4116-8403-0cafa02d1ac3",
   "metadata": {},
   "source": [
    "### Question 29\n",
    "Define a function that can receive two integral numbers in string form and compute their sum and then print it in console.\n",
    "\n",
    "Hints:\n",
    "\n",
    "Use int() to convert a string to integer."
   ]
  },
  {
   "cell_type": "code",
   "execution_count": 35,
   "id": "7ea58bd5-53a8-4434-a643-a4fe04da735f",
   "metadata": {},
   "outputs": [
    {
     "name": "stdin",
     "output_type": "stream",
     "text": [
      " 5\n",
      " 34\n"
     ]
    },
    {
     "data": {
      "text/plain": [
       "39"
      ]
     },
     "execution_count": 35,
     "metadata": {},
     "output_type": "execute_result"
    }
   ],
   "source": [
    "string_sum = lambda x, y: int(x) + int(y)\n",
    "string_sum(input(), input())"
   ]
  },
  {
   "cell_type": "markdown",
   "id": "e41bca85-7dd8-47cd-8629-6040e1dc1df0",
   "metadata": {},
   "source": [
    "### Question 30\n",
    "Define a function that can accept two strings as input and concatenate them and then print it in console.\n",
    "\n",
    "Hints:\n",
    "\n",
    "Use + to concatenate the strings"
   ]
  },
  {
   "cell_type": "code",
   "execution_count": 37,
   "id": "dd321b27-103b-4562-a409-8058622ff77e",
   "metadata": {},
   "outputs": [
    {
     "name": "stdin",
     "output_type": "stream",
     "text": [
      " zxc\n",
      " qwe\n"
     ]
    },
    {
     "data": {
      "text/plain": [
       "'zxcqwe'"
      ]
     },
     "execution_count": 37,
     "metadata": {},
     "output_type": "execute_result"
    }
   ],
   "source": [
    "concat_strings = lambda x, y: x + y\n",
    "concat_strings(input(), input())"
   ]
  },
  {
   "cell_type": "markdown",
   "id": "deb0a256-4526-4e4f-bc6d-a72ad8ce2a36",
   "metadata": {},
   "source": [
    "### Question 31\n",
    "Define a function that can accept two strings as input and print the string with maximum length in console. If two strings have the same length, then the function should print al l strings line by line.\n",
    "\n",
    "Hints:\n",
    "\n",
    "Use len() function to get the length of a string"
   ]
  },
  {
   "cell_type": "code",
   "execution_count": 58,
   "id": "e83d879d-4b15-4194-bb26-ee3f9f419775",
   "metadata": {},
   "outputs": [
    {
     "name": "stdin",
     "output_type": "stream",
     "text": [
      " zxc\n",
      " zxc\n"
     ]
    },
    {
     "name": "stdout",
     "output_type": "stream",
     "text": [
      "zxc\n",
      "zxc\n"
     ]
    }
   ],
   "source": [
    "string_max_len = lambda x, y: print(x, y, sep='\\n') if (len(x) == len(y)) else x if len(x) > len(y) else y\n",
    "string_max_len(input(), input())"
   ]
  },
  {
   "cell_type": "markdown",
   "id": "752fec7f-e6eb-4908-89c6-535a90346123",
   "metadata": {},
   "source": [
    "### Question 32\n",
    "Define a function that can accept an integer number as input and print the \"It is an even number\" if the number is even, otherwise print \"It is an odd number\".\n",
    "\n",
    "Hints:\n",
    "\n",
    "Use % operator to check if a number is even or odd."
   ]
  },
  {
   "cell_type": "code",
   "execution_count": 62,
   "id": "ba6cda04-0c00-4bde-9555-6d25973e236a",
   "metadata": {},
   "outputs": [
    {
     "name": "stdin",
     "output_type": "stream",
     "text": [
      " 12\n"
     ]
    },
    {
     "name": "stdout",
     "output_type": "stream",
     "text": [
      "It is an even number\n"
     ]
    }
   ],
   "source": [
    "even_or_odd = lambda number: print('It is an odd number') if number % 2 else print('It is an even number')\n",
    "even_or_odd(int(input()))"
   ]
  },
  {
   "cell_type": "markdown",
   "id": "05503634-7948-4ebe-9c0e-b6b0db312087",
   "metadata": {},
   "source": [
    "### Question 33\n",
    "Define a function which can print a dictionary where the keys are numbers between 1 and 3 (both included) and the values are square of keys.\n",
    "\n",
    "Hints:\n",
    "\n",
    "Use dict[key]=value pattern to put entry into a dictionary.\n",
    "Use ** operator to get power of a number."
   ]
  },
  {
   "cell_type": "code",
   "execution_count": 67,
   "id": "43908482-74d5-4f41-a8b9-16fd9c085832",
   "metadata": {},
   "outputs": [
    {
     "name": "stdout",
     "output_type": "stream",
     "text": [
      "{1: 1, 2: 4, 3: 9}\n"
     ]
    }
   ],
   "source": [
    "print_dict = lambda: {x: x*x for x in range(1, 4)}\n",
    "print(print_dict())"
   ]
  },
  {
   "cell_type": "markdown",
   "id": "0b9b1267-5cb7-4305-ba1f-99b40a4697fa",
   "metadata": {},
   "source": [
    "### Question 34\n",
    "Define a function which can print a dictionary where the keys are numbers between 1 and 20 (both included) and the values are square of keys.\n",
    "\n",
    "Hints:\n",
    "\n",
    "Use dict[key]=value pattern to put entry into a dictionary.\n",
    "Use ** operator to get power of a number.\n",
    "Use range() for loops."
   ]
  },
  {
   "cell_type": "code",
   "execution_count": 68,
   "id": "7d554f8a-c297-4488-92c3-f6324e90ebfc",
   "metadata": {},
   "outputs": [
    {
     "name": "stdout",
     "output_type": "stream",
     "text": [
      "{1: 1, 2: 4, 3: 9, 4: 16, 5: 25, 6: 36, 7: 49, 8: 64, 9: 81, 10: 100, 11: 121, 12: 144, 13: 169, 14: 196, 15: 225, 16: 256, 17: 289, 18: 324, 19: 361, 20: 400}\n"
     ]
    }
   ],
   "source": [
    "print_dict = lambda: {x: x*x for x in range(1, 21)}\n",
    "print(print_dict())"
   ]
  },
  {
   "cell_type": "markdown",
   "id": "88597a95-61f4-458e-98af-6b0edd12ee91",
   "metadata": {},
   "source": [
    "### Question 35\n",
    "Define a function which can generate a dictionary where the keys are numbers between 1 and 20 (both included) and the values are square of keys. The function should just print the values only.\n",
    "\n",
    "Hints:\n",
    "\n",
    "Use dict[key]=value pattern to put entry into a dictionary.\n",
    "Use ** operator to get power of a number.\n",
    "Use range() for loops.\n",
    "Use keys() to iterate keys in the dictionary. Also we can use item() to get key/value pairs."
   ]
  },
  {
   "cell_type": "code",
   "execution_count": 70,
   "id": "c60f64fa-0257-4d84-9360-c334e3354801",
   "metadata": {},
   "outputs": [
    {
     "name": "stdout",
     "output_type": "stream",
     "text": [
      "dict_values([1, 4, 9, 16, 25, 36, 49, 64, 81, 100, 121, 144, 169, 196, 225, 256, 289, 324, 361, 400])\n"
     ]
    }
   ],
   "source": [
    "print_dict = lambda: {x: x*x for x in range(1, 21)}.values()\n",
    "print(print_dict())"
   ]
  }
 ],
 "metadata": {
  "kernelspec": {
   "display_name": "Python 3 (ipykernel)",
   "language": "python",
   "name": "python3"
  },
  "language_info": {
   "codemirror_mode": {
    "name": "ipython",
    "version": 3
   },
   "file_extension": ".py",
   "mimetype": "text/x-python",
   "name": "python",
   "nbconvert_exporter": "python",
   "pygments_lexer": "ipython3",
   "version": "3.10.10"
  }
 },
 "nbformat": 4,
 "nbformat_minor": 5
}
